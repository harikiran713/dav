{
 "cells": [
  {
   "cell_type": "code",
   "execution_count": 3,
   "metadata": {},
   "outputs": [
    {
     "name": "stderr",
     "output_type": "stream",
     "text": [
      "[nltk_data] Downloading package stopwords to\n",
      "[nltk_data]     C:\\Users\\harikiran\\AppData\\Roaming\\nltk_data...\n",
      "[nltk_data]   Package stopwords is already up-to-date!\n",
      "[nltk_data] Downloading package punkt to\n",
      "[nltk_data]     C:\\Users\\harikiran\\AppData\\Roaming\\nltk_data...\n",
      "[nltk_data]   Package punkt is already up-to-date!\n"
     ]
    },
    {
     "name": "stdout",
     "output_type": "stream",
     "text": [
      "✅ SVM Model Accuracy: 0.98\n",
      "✅ SVM Model and Vectorizer Saved!\n"
     ]
    }
   ],
   "source": [
    "import pandas as pd  \n",
    "import pickle  \n",
    "import string  \n",
    "import nltk  \n",
    "from nltk.corpus import stopwords  \n",
    "from nltk.stem.porter import PorterStemmer  \n",
    "from sklearn.feature_extraction.text import TfidfVectorizer  \n",
    "from sklearn.model_selection import train_test_split  \n",
    "from sklearn.metrics import accuracy_score  \n",
    "from sklearn.svm import SVC  \n",
    "\n",
    "# Download NLTK stopwords  \n",
    "nltk.download('stopwords')  \n",
    "nltk.download('punkt')  \n",
    "\n",
    "# Load dataset  \n",
    "df = pd.read_csv(\"spam.csv\", encoding=\"latin-1\")  \n",
    "\n",
    "# Keep only relevant columns  \n",
    "df = df[['v1', 'v2']]  \n",
    "df.columns = ['label', 'text']  \n",
    "\n",
    "# Convert labels (ham = 0, spam = 1)  \n",
    "df['label'] = df['label'].map({'ham': 0, 'spam': 1})  \n",
    "\n",
    "# Text Preprocessing Function  \n",
    "ps = PorterStemmer()  \n",
    "\n",
    "def preprocess_text(text):  \n",
    "    text = text.lower()  \n",
    "    text = nltk.word_tokenize(text)  \n",
    "    text = [word for word in text if word.isalnum()]  \n",
    "    text = [word for word in text if word not in stopwords.words('english') and word not in string.punctuation]  \n",
    "    text = [ps.stem(word) for word in text]  \n",
    "    return \" \".join(text)  \n",
    "\n",
    "# Apply preprocessing  \n",
    "df['text'] = df['text'].apply(preprocess_text)  \n",
    "\n",
    "# Splitting Data  \n",
    "X_train, X_test, y_train, y_test = train_test_split(df['text'], df['label'], test_size=0.2, random_state=42)  \n",
    "\n",
    "# Vectorization (TF-IDF)  \n",
    "vectorizer = TfidfVectorizer()  \n",
    "X_train_tfidf = vectorizer.fit_transform(X_train)  \n",
    "X_test_tfidf = vectorizer.transform(X_test)  \n",
    "\n",
    "# Train SVM Model  \n",
    "model_svm = SVC(kernel='linear', random_state=42)  \n",
    "model_svm.fit(X_train_tfidf, y_train)  \n",
    "\n",
    "# Evaluate Model  \n",
    "y_pred = model_svm.predict(X_test_tfidf)  \n",
    "accuracy = accuracy_score(y_test, y_pred)  \n",
    "print(f\"✅ SVM Model Accuracy: {accuracy:.2f}\")  \n",
    "\n",
    "# Save SVM model  \n",
    "with open(\"model_svm.pkl\", \"wb\") as f:  \n",
    "    pickle.dump(model_svm, f)  \n",
    "\n",
    "# Save vectorizer  \n",
    "with open(\"vectorizer.pkl\", \"wb\") as f:  \n",
    "    pickle.dump(vectorizer, f)  \n",
    "\n",
    "print(\"✅ SVM Model and Vectorizer Saved!\")  "
   ]
  }
 ],
 "metadata": {
  "kernelspec": {
   "display_name": "base",
   "language": "python",
   "name": "python3"
  },
  "language_info": {
   "codemirror_mode": {
    "name": "ipython",
    "version": 3
   },
   "file_extension": ".py",
   "mimetype": "text/x-python",
   "name": "python",
   "nbconvert_exporter": "python",
   "pygments_lexer": "ipython3",
   "version": "3.12.7"
  }
 },
 "nbformat": 4,
 "nbformat_minor": 2
}
